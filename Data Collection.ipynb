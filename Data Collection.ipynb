{
 "cells": [
  {
   "cell_type": "code",
   "execution_count": 3,
   "metadata": {},
   "outputs": [
    {
     "name": "stdout",
     "output_type": "stream",
     "text": [
      "Collecting tweepy\n",
      "  Downloading tweepy-4.12.1-py3-none-any.whl (101 kB)\n",
      "\u001b[2K     \u001b[90m━━━━━━━━━━━━━━━━━━━━━━━━━━━━━━━━━━━━━━━\u001b[0m \u001b[32m101.6/101.6 kB\u001b[0m \u001b[31m2.9 MB/s\u001b[0m eta \u001b[36m0:00:00\u001b[0m\n",
      "\u001b[?25hCollecting oauthlib<4,>=3.2.0\n",
      "  Downloading oauthlib-3.2.2-py3-none-any.whl (151 kB)\n",
      "\u001b[2K     \u001b[90m━━━━━━━━━━━━━━━━━━━━━━━━━━━━━━━━━━━━━━━\u001b[0m \u001b[32m151.7/151.7 kB\u001b[0m \u001b[31m4.3 MB/s\u001b[0m eta \u001b[36m0:00:00\u001b[0m\n",
      "\u001b[?25hCollecting requests<3,>=2.27.0\n",
      "  Downloading requests-2.28.1-py3-none-any.whl (62 kB)\n",
      "\u001b[2K     \u001b[90m━━━━━━━━━━━━━━━━━━━━━━━━━━━━━━━━━━━━━━━━\u001b[0m \u001b[32m62.8/62.8 kB\u001b[0m \u001b[31m2.1 MB/s\u001b[0m eta \u001b[36m0:00:00\u001b[0m\n",
      "\u001b[?25hCollecting requests-oauthlib<2,>=1.2.0\n",
      "  Downloading requests_oauthlib-1.3.1-py2.py3-none-any.whl (23 kB)\n",
      "Requirement already satisfied: certifi>=2017.4.17 in /Users/aasthapatel/opt/anaconda3/lib/python3.7/site-packages (from requests<3,>=2.27.0->tweepy) (2019.11.28)\n",
      "Collecting charset-normalizer<3,>=2\n",
      "  Downloading charset_normalizer-2.1.1-py3-none-any.whl (39 kB)\n",
      "Requirement already satisfied: urllib3<1.27,>=1.21.1 in /Users/aasthapatel/opt/anaconda3/lib/python3.7/site-packages (from requests<3,>=2.27.0->tweepy) (1.25.8)\n",
      "Requirement already satisfied: idna<4,>=2.5 in /Users/aasthapatel/opt/anaconda3/lib/python3.7/site-packages (from requests<3,>=2.27.0->tweepy) (2.8)\n",
      "Installing collected packages: oauthlib, charset-normalizer, requests, requests-oauthlib, tweepy\n",
      "  Attempting uninstall: requests\n",
      "    Found existing installation: requests 2.22.0\n",
      "    Uninstalling requests-2.22.0:\n",
      "      Successfully uninstalled requests-2.22.0\n",
      "\u001b[31mERROR: pip's dependency resolver does not currently take into account all the packages that are installed. This behaviour is the source of the following dependency conflicts.\n",
      "conda 4.12.0 requires ruamel_yaml_conda>=0.11.14, which is not installed.\u001b[0m\u001b[31m\n",
      "\u001b[0mSuccessfully installed charset-normalizer-2.1.1 oauthlib-3.2.2 requests-2.28.1 requests-oauthlib-1.3.1 tweepy-4.12.1\n",
      "Note: you may need to restart the kernel to use updated packages.\n"
     ]
    }
   ],
   "source": [
    "pip install tweepy"
   ]
  },
  {
   "cell_type": "code",
   "execution_count": 1,
   "metadata": {},
   "outputs": [
    {
     "name": "stdout",
     "output_type": "stream",
     "text": [
      "                 User                  Datetime  \\\n",
      "0      gujarat_titans 2022-05-30 17:34:03+00:00   \n",
      "1      gujarat_titans 2022-05-30 17:10:37+00:00   \n",
      "2      gujarat_titans 2022-05-30 15:24:17+00:00   \n",
      "3      gujarat_titans 2022-05-30 14:30:33+00:00   \n",
      "4      gujarat_titans 2022-05-30 13:28:42+00:00   \n",
      "...               ...                       ...   \n",
      "13744       SunRisers 2022-03-03 06:15:21+00:00   \n",
      "13745       SunRisers 2022-03-02 12:30:52+00:00   \n",
      "13746       SunRisers 2022-03-02 09:31:09+00:00   \n",
      "13747       SunRisers 2022-03-02 07:01:13+00:00   \n",
      "13748       SunRisers 2022-03-02 04:30:12+00:00   \n",
      "\n",
      "                                                   Tweet  \n",
      "0      We can just say that last night was magical, a...  \n",
      "1      ઘણો આનંદ આવ્યો, અમને પણ! સારા કાર્ય સાથે અમારા...  \n",
      "2      We couldn’t have won this #SeasonOfFirsts with...  \n",
      "3      It's time for the big prize, #TitansFAM 🤩\\n\\nW...  \n",
      "4      From an emerging player, to a leader being hai...  \n",
      "...                                                  ...  \n",
      "13744  The party continues for yesterday's birthday b...  \n",
      "13745  1⃣0⃣1⃣* [37] 😱\\n\\nWatch @nicholas_47's match-w...  \n",
      "13746  #OnThisDay 3 years ago, Kane Williamson scored...  \n",
      "13747  His party starts in the Powerplay. 🔥🧡\\n\\n@trip...  \n",
      "13748  Rahul, naam toh suna hoga. 🔥\\n\\nA VERY HAPPY B...  \n",
      "\n",
      "[13749 rows x 3 columns]\n"
     ]
    }
   ],
   "source": [
    "import tweepy\n",
    "import pandas as pd\n",
    "import datetime\n",
    "\n",
    "api_key = '9lut0HHFLPBxPvbXdnU58JBEb'\n",
    "api_key_secret = 'PFErImOYm3Ty9pGAmax9Y05wt7H99PBrVIcPw2LfMYnls9ParX'\n",
    "\n",
    "access_token = '1503427726094606343-7mSAsMAMVxql8ke8EPbpLch2PaC0oA'\n",
    "access_token_secret = '4KcM8c7IklePTQZp32o3nKHZIFEV8hFM9ay4ETN8gNoII'\n",
    "\n",
    "# authentication\n",
    "auth = tweepy.OAuthHandler(api_key, api_key_secret)\n",
    "auth.set_access_token(access_token, access_token_secret)\n",
    "\n",
    "api = tweepy.API(auth)\n",
    "\n",
    "# user tweets\n",
    "user = ['gujarat_titans','RCBTweets','mipaltan','ChennaiIPL','DelhiCapitals','KKRiders','LucknowIPL','PunjabKingsIPL','rajasthanroyals','SunRisers']\n",
    "data = []\n",
    "for i in user:\n",
    "    limit=100000\n",
    "\n",
    "    tweets = tweepy.Cursor(api.user_timeline, screen_name=i, count=200, tweet_mode='extended').items(limit)\n",
    "\n",
    "    # tweets = api.user_timeline(screen_name=user, count=limit, tweet_mode='extended')\n",
    "    # create DataFrame\n",
    "    columns = ['User', 'Datetime','Tweet']\n",
    "    \n",
    "\n",
    "    startDate = datetime.datetime(2022, 3, 1)\n",
    "    startDate=startDate.strftime('%Y-%m-%d')\n",
    "    endDate = datetime.datetime(2022, 5, 31)\n",
    "    endDate=endDate.strftime('%Y-%m-%d')\n",
    "\n",
    "\n",
    "\n",
    "    for tweet in tweets:\n",
    "\n",
    "        date=tweet.created_at.strftime('%Y-%m-%d')\n",
    "\n",
    "\n",
    "        if date < endDate and date > startDate:\n",
    "            data.append([tweet.user.screen_name, tweet.created_at ,tweet.full_text])\n",
    "\n",
    "    df = pd.DataFrame(data, columns=columns)\n",
    "\n",
    "print(df)\n"
   ]
  },
  {
   "cell_type": "code",
   "execution_count": 2,
   "metadata": {},
   "outputs": [],
   "source": [
    "df.to_csv('TopicModelling.csv', sep=',', index=False)"
   ]
  },
  {
   "cell_type": "markdown",
   "metadata": {},
   "source": [
    "#### Reference\n",
    "\n",
    "https://stackoverflow.com/questions/49731259/tweepy-get-tweets-between-two-dates"
   ]
  }
 ],
 "metadata": {
  "kernelspec": {
   "display_name": "Python 3",
   "language": "python",
   "name": "python3"
  },
  "language_info": {
   "codemirror_mode": {
    "name": "ipython",
    "version": 3
   },
   "file_extension": ".py",
   "mimetype": "text/x-python",
   "name": "python",
   "nbconvert_exporter": "python",
   "pygments_lexer": "ipython3",
   "version": "3.7.6"
  }
 },
 "nbformat": 4,
 "nbformat_minor": 4
}
