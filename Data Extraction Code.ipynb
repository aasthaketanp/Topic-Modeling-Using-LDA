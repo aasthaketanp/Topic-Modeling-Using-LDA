{
 "cells": [
  {
   "cell_type": "code",
   "execution_count": 33,
   "metadata": {},
   "outputs": [
    {
     "name": "stdout",
     "output_type": "stream",
     "text": [
      "Requirement already satisfied: snscrape in /Users/aasthapatel/opt/anaconda3/lib/python3.7/site-packages (0.3.4)\n",
      "Requirement already satisfied: beautifulsoup4 in /Users/aasthapatel/opt/anaconda3/lib/python3.7/site-packages (from snscrape) (4.8.2)\n",
      "Requirement already satisfied: requests[socks] in /Users/aasthapatel/opt/anaconda3/lib/python3.7/site-packages (from snscrape) (2.22.0)\n",
      "Requirement already satisfied: lxml in /Users/aasthapatel/opt/anaconda3/lib/python3.7/site-packages (from snscrape) (4.5.0)\n",
      "Requirement already satisfied: soupsieve>=1.2 in /Users/aasthapatel/opt/anaconda3/lib/python3.7/site-packages (from beautifulsoup4->snscrape) (1.9.5)\n",
      "Requirement already satisfied: urllib3!=1.25.0,!=1.25.1,<1.26,>=1.21.1 in /Users/aasthapatel/opt/anaconda3/lib/python3.7/site-packages (from requests[socks]->snscrape) (1.25.8)\n",
      "Requirement already satisfied: certifi>=2017.4.17 in /Users/aasthapatel/opt/anaconda3/lib/python3.7/site-packages (from requests[socks]->snscrape) (2019.11.28)\n",
      "Requirement already satisfied: idna<2.9,>=2.5 in /Users/aasthapatel/opt/anaconda3/lib/python3.7/site-packages (from requests[socks]->snscrape) (2.8)\n",
      "Requirement already satisfied: chardet<3.1.0,>=3.0.2 in /Users/aasthapatel/opt/anaconda3/lib/python3.7/site-packages (from requests[socks]->snscrape) (3.0.4)\n",
      "Requirement already satisfied: PySocks!=1.5.7,>=1.5.6; extra == \"socks\" in /Users/aasthapatel/opt/anaconda3/lib/python3.7/site-packages (from requests[socks]->snscrape) (1.7.1)\n",
      "Note: you may need to restart the kernel to use updated packages.\n"
     ]
    }
   ],
   "source": [
    "pip install snscrape"
   ]
  },
  {
   "cell_type": "code",
   "execution_count": 2,
   "metadata": {},
   "outputs": [],
   "source": [
    "# Imports\n",
    "import snscrape.modules.twitter as sntwitter\n",
    "import pandas as pd"
   ]
  },
  {
   "cell_type": "code",
   "execution_count": 6,
   "metadata": {},
   "outputs": [
    {
     "data": {
      "text/html": [
       "<div>\n",
       "<style scoped>\n",
       "    .dataframe tbody tr th:only-of-type {\n",
       "        vertical-align: middle;\n",
       "    }\n",
       "\n",
       "    .dataframe tbody tr th {\n",
       "        vertical-align: top;\n",
       "    }\n",
       "\n",
       "    .dataframe thead th {\n",
       "        text-align: right;\n",
       "    }\n",
       "</style>\n",
       "<table border=\"1\" class=\"dataframe\">\n",
       "  <thead>\n",
       "    <tr style=\"text-align: right;\">\n",
       "      <th></th>\n",
       "      <th>Datetime</th>\n",
       "      <th>Tweet Id</th>\n",
       "      <th>Text</th>\n",
       "      <th>Username</th>\n",
       "    </tr>\n",
       "  </thead>\n",
       "  <tbody>\n",
       "    <tr>\n",
       "      <th>496</th>\n",
       "      <td>2022-05-25 18:51:28+00:00</td>\n",
       "      <td>1529535640647479299</td>\n",
       "      <td>Well played #LSG \\nBetter Luck Next Time. \\nWe...</td>\n",
       "      <td>retweetinggirls</td>\n",
       "    </tr>\n",
       "    <tr>\n",
       "      <th>497</th>\n",
       "      <td>2022-05-25 18:51:28+00:00</td>\n",
       "      <td>1529535640127553537</td>\n",
       "      <td>Well played #LucknowSuperGiants aaj k match ko...</td>\n",
       "      <td>mannv0707</td>\n",
       "    </tr>\n",
       "    <tr>\n",
       "      <th>498</th>\n",
       "      <td>2022-05-25 18:51:16+00:00</td>\n",
       "      <td>1529535589355495424</td>\n",
       "      <td>Live IPL 2022 | Lucknow Super Giants vs Royal ...</td>\n",
       "      <td>Digital2Sports</td>\n",
       "    </tr>\n",
       "    <tr>\n",
       "      <th>499</th>\n",
       "      <td>2022-05-25 18:51:07+00:00</td>\n",
       "      <td>1529535550663053312</td>\n",
       "      <td>@RCBTweets making way towards something 😉 \\n\\n...</td>\n",
       "      <td>ChandraAankit</td>\n",
       "    </tr>\n",
       "    <tr>\n",
       "      <th>500</th>\n",
       "      <td>2022-05-25 18:51:06+00:00</td>\n",
       "      <td>1529535548209401856</td>\n",
       "      <td>RCB qualified for Qualifier 2 of IPL 2022.\\nCo...</td>\n",
       "      <td>Hussain49200878</td>\n",
       "    </tr>\n",
       "  </tbody>\n",
       "</table>\n",
       "</div>"
      ],
      "text/plain": [
       "                     Datetime             Tweet Id  \\\n",
       "496 2022-05-25 18:51:28+00:00  1529535640647479299   \n",
       "497 2022-05-25 18:51:28+00:00  1529535640127553537   \n",
       "498 2022-05-25 18:51:16+00:00  1529535589355495424   \n",
       "499 2022-05-25 18:51:07+00:00  1529535550663053312   \n",
       "500 2022-05-25 18:51:06+00:00  1529535548209401856   \n",
       "\n",
       "                                                  Text         Username  \n",
       "496  Well played #LSG \\nBetter Luck Next Time. \\nWe...  retweetinggirls  \n",
       "497  Well played #LucknowSuperGiants aaj k match ko...        mannv0707  \n",
       "498  Live IPL 2022 | Lucknow Super Giants vs Royal ...   Digital2Sports  \n",
       "499  @RCBTweets making way towards something 😉 \\n\\n...    ChandraAankit  \n",
       "500  RCB qualified for Qualifier 2 of IPL 2022.\\nCo...  Hussain49200878  "
      ]
     },
     "execution_count": 6,
     "metadata": {},
     "output_type": "execute_result"
    }
   ],
   "source": [
    "# Query by text search\n",
    "# Setting variables to be used below\n",
    "maxTweets = 500\n",
    "\n",
    "# Creating list to append tweet data to\n",
    "tweets_list2 = []\n",
    "\n",
    "# Using TwitterSearchScraper to scrape data and append tweets to list\n",
    "for i,tweet in enumerate(sntwitter.TwitterSearchScraper('LucknowSuperGiants since:2022-05-24 until:2022-05-29').get_items()):\n",
    "    if i>maxTweets:\n",
    "        break\n",
    "    tweets_list2.append([tweet.date, tweet.id, tweet.content, tweet.username])\n",
    "\n",
    "# Creating a dataframe from the tweets list above\n",
    "tweets_df2 = pd.DataFrame(tweets_list2, columns=['Datetime', 'Tweet Id', 'Text', 'Username'])\n",
    "\n",
    "# Display first 5 entries from dataframe\n",
    "tweets_df2.tail()\n"
   ]
  },
  {
   "cell_type": "code",
   "execution_count": 7,
   "metadata": {},
   "outputs": [
    {
     "data": {
      "text/html": [
       "<div>\n",
       "<style scoped>\n",
       "    .dataframe tbody tr th:only-of-type {\n",
       "        vertical-align: middle;\n",
       "    }\n",
       "\n",
       "    .dataframe tbody tr th {\n",
       "        vertical-align: top;\n",
       "    }\n",
       "\n",
       "    .dataframe thead th {\n",
       "        text-align: right;\n",
       "    }\n",
       "</style>\n",
       "<table border=\"1\" class=\"dataframe\">\n",
       "  <thead>\n",
       "    <tr style=\"text-align: right;\">\n",
       "      <th></th>\n",
       "      <th>Datetime</th>\n",
       "      <th>Tweet Id</th>\n",
       "      <th>Text</th>\n",
       "      <th>Username</th>\n",
       "    </tr>\n",
       "  </thead>\n",
       "  <tbody>\n",
       "    <tr>\n",
       "      <th>0</th>\n",
       "      <td>2022-05-28 21:39:07+00:00</td>\n",
       "      <td>1530664993963659264</td>\n",
       "      <td>#LucknowSuperGiants this time 😏\\n#IPLplayoffs</td>\n",
       "      <td>Sugeetaaa</td>\n",
       "    </tr>\n",
       "    <tr>\n",
       "      <th>1</th>\n",
       "      <td>2022-05-28 18:34:57+00:00</td>\n",
       "      <td>1530618646648659974</td>\n",
       "      <td>𝐔𝐏 𝐦𝐚𝐤𝐞𝐬 𝐢𝐭𝐬 𝐝𝐞𝐛𝐮𝐭\\n\\n#LucknowSuperGiants has ...</td>\n",
       "      <td>LucknowIPLCover</td>\n",
       "    </tr>\n",
       "    <tr>\n",
       "      <th>2</th>\n",
       "      <td>2022-05-28 17:49:37+00:00</td>\n",
       "      <td>1530607238632460289</td>\n",
       "      <td>#LucknowSuperGiants signed a new player for ne...</td>\n",
       "      <td>theusoo_</td>\n",
       "    </tr>\n",
       "    <tr>\n",
       "      <th>3</th>\n",
       "      <td>2022-05-28 15:15:18+00:00</td>\n",
       "      <td>1530568403605303298</td>\n",
       "      <td>@LucknowIPL Sponcer to lsg😂😝\\n\\n   #AbApniBaar...</td>\n",
       "      <td>amyth_sharma</td>\n",
       "    </tr>\n",
       "    <tr>\n",
       "      <th>4</th>\n",
       "      <td>2022-05-28 15:08:37+00:00</td>\n",
       "      <td>1530566719022170112</td>\n",
       "      <td>Thank you official #Sponsors and #Partners for...</td>\n",
       "      <td>LucknowIPL</td>\n",
       "    </tr>\n",
       "  </tbody>\n",
       "</table>\n",
       "</div>"
      ],
      "text/plain": [
       "                   Datetime             Tweet Id  \\\n",
       "0 2022-05-28 21:39:07+00:00  1530664993963659264   \n",
       "1 2022-05-28 18:34:57+00:00  1530618646648659974   \n",
       "2 2022-05-28 17:49:37+00:00  1530607238632460289   \n",
       "3 2022-05-28 15:15:18+00:00  1530568403605303298   \n",
       "4 2022-05-28 15:08:37+00:00  1530566719022170112   \n",
       "\n",
       "                                                Text         Username  \n",
       "0      #LucknowSuperGiants this time 😏\\n#IPLplayoffs        Sugeetaaa  \n",
       "1  𝐔𝐏 𝐦𝐚𝐤𝐞𝐬 𝐢𝐭𝐬 𝐝𝐞𝐛𝐮𝐭\\n\\n#LucknowSuperGiants has ...  LucknowIPLCover  \n",
       "2  #LucknowSuperGiants signed a new player for ne...         theusoo_  \n",
       "3  @LucknowIPL Sponcer to lsg😂😝\\n\\n   #AbApniBaar...     amyth_sharma  \n",
       "4  Thank you official #Sponsors and #Partners for...       LucknowIPL  "
      ]
     },
     "execution_count": 7,
     "metadata": {},
     "output_type": "execute_result"
    }
   ],
   "source": [
    "tweets_df2.head()"
   ]
  },
  {
   "cell_type": "code",
   "execution_count": 8,
   "metadata": {},
   "outputs": [],
   "source": [
    "# Export dataframe into a CSV\n",
    "tweets_df2.to_csv('LucknowSuperGiants.csv', sep=',', index=False)"
   ]
  },
  {
   "cell_type": "markdown",
   "metadata": {},
   "source": [
    "#### Reference:\n",
    "https://betterprogramming.pub/how-to-scrape-tweets-with-snscrape-90124ed006af"
   ]
  },
  {
   "cell_type": "code",
   "execution_count": null,
   "metadata": {},
   "outputs": [],
   "source": []
  }
 ],
 "metadata": {
  "kernelspec": {
   "display_name": "Python 3",
   "language": "python",
   "name": "python3"
  },
  "language_info": {
   "codemirror_mode": {
    "name": "ipython",
    "version": 3
   },
   "file_extension": ".py",
   "mimetype": "text/x-python",
   "name": "python",
   "nbconvert_exporter": "python",
   "pygments_lexer": "ipython3",
   "version": "3.7.6"
  }
 },
 "nbformat": 4,
 "nbformat_minor": 4
}
